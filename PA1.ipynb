{
 "cells": [
  {
   "cell_type": "markdown",
   "id": "42abd34c",
   "metadata": {},
   "source": [
    "## Programming Assignment 1\n",
    "### Tess Anderson\n",
    "#### CS150-01 Computer Programming for the Liberal Arts\n",
    "##### Fall 2022"
   ]
  },
  {
   "cell_type": "code",
   "execution_count": 11,
   "id": "679b5fe7",
   "metadata": {
    "scrolled": true
   },
   "outputs": [
    {
     "name": "stdout",
     "output_type": "stream",
     "text": [
      "Enter a floating point number. 44.3\n",
      "Enter an integer. 16\n"
     ]
    }
   ],
   "source": [
    "n1=float(input('Enter a floating point number. '))\n",
    "n2=int(input('Enter an integer. '))"
   ]
  },
  {
   "cell_type": "code",
   "execution_count": 12,
   "id": "83b58025",
   "metadata": {},
   "outputs": [
    {
     "name": "stdout",
     "output_type": "stream",
     "text": [
      "The sum is  60.3\n"
     ]
    }
   ],
   "source": [
    "print('The sum is ',float(n1+n2))"
   ]
  },
  {
   "cell_type": "code",
   "execution_count": 18,
   "id": "1ecea894",
   "metadata": {},
   "outputs": [
    {
     "name": "stdout",
     "output_type": "stream",
     "text": [
      "The difference is  28.3\n"
     ]
    }
   ],
   "source": [
    "print('The difference is ',round((float(n1-n2)),1))"
   ]
  },
  {
   "cell_type": "code",
   "execution_count": 15,
   "id": "9a3169b4",
   "metadata": {},
   "outputs": [
    {
     "name": "stdout",
     "output_type": "stream",
     "text": [
      "The product is  708.8\n"
     ]
    }
   ],
   "source": [
    "print('The product is ',float(n1*n2))"
   ]
  },
  {
   "cell_type": "code",
   "execution_count": 23,
   "id": "f2e9375c",
   "metadata": {},
   "outputs": [
    {
     "name": "stdout",
     "output_type": "stream",
     "text": [
      "The quotient is  2.769\n"
     ]
    }
   ],
   "source": [
    "print('The quotient is ',round((float(n1/n2)),3))"
   ]
  },
  {
   "cell_type": "code",
   "execution_count": 24,
   "id": "8394beb5",
   "metadata": {},
   "outputs": [
    {
     "name": "stdout",
     "output_type": "stream",
     "text": [
      "The type for the result is <class 'float'>\n"
     ]
    }
   ],
   "source": [
    "print('The type for the result is',type(n1/n2))"
   ]
  }
 ],
 "metadata": {
  "kernelspec": {
   "display_name": "Python 3 (ipykernel)",
   "language": "python",
   "name": "python3"
  },
  "language_info": {
   "codemirror_mode": {
    "name": "ipython",
    "version": 3
   },
   "file_extension": ".py",
   "mimetype": "text/x-python",
   "name": "python",
   "nbconvert_exporter": "python",
   "pygments_lexer": "ipython3",
   "version": "3.9.12"
  }
 },
 "nbformat": 4,
 "nbformat_minor": 5
}
